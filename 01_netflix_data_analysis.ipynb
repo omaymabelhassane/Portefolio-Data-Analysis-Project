{
 "cells": [
  {
   "cell_type": "code",
   "execution_count": null,
   "id": "15cb1ddf-c78e-4b28-befd-6e4f42cb0ef8",
   "metadata": {},
   "outputs": [],
   "source": [
    "# 🎬 Analyse du catalogue Netflix\n",
    "\n",
    "> **Objectif :** Explorer et comprendre le catalogue mondial de Netflix à partir d’un dataset public.  \n",
    "> Nous allons importer, examiner et préparer les données avant de passer à la visualisation.\n",
    "\n",
    "---\n",
    "\n",
    "## 🧭 Étape 1 — Importation des librairies et du dataset\n",
    "Dans cette première étape, nous allons :\n",
    "- importer la librairie **pandas** pour manipuler les données,\n",
    "- charger le fichier `netflix_titles.csv` dans notre environnement."
   ]
  },
  {
   "cell_type": "code",
   "execution_count": 4,
   "id": "d64b3ccd-284c-4b1f-876f-9b4cef170c87",
   "metadata": {},
   "outputs": [
    {
     "name": "stdout",
     "output_type": "stream",
     "text": [
      "✅ Fichier chargé avec succès !\n",
      "Dimensions du dataset : (8807, 12)\n"
     ]
    },
    {
     "data": {
      "text/html": [
       "<div>\n",
       "<style scoped>\n",
       "    .dataframe tbody tr th:only-of-type {\n",
       "        vertical-align: middle;\n",
       "    }\n",
       "\n",
       "    .dataframe tbody tr th {\n",
       "        vertical-align: top;\n",
       "    }\n",
       "\n",
       "    .dataframe thead th {\n",
       "        text-align: right;\n",
       "    }\n",
       "</style>\n",
       "<table border=\"1\" class=\"dataframe\">\n",
       "  <thead>\n",
       "    <tr style=\"text-align: right;\">\n",
       "      <th></th>\n",
       "      <th>show_id</th>\n",
       "      <th>type</th>\n",
       "      <th>title</th>\n",
       "      <th>director</th>\n",
       "      <th>cast</th>\n",
       "      <th>country</th>\n",
       "      <th>date_added</th>\n",
       "      <th>release_year</th>\n",
       "      <th>rating</th>\n",
       "      <th>duration</th>\n",
       "      <th>listed_in</th>\n",
       "      <th>description</th>\n",
       "    </tr>\n",
       "  </thead>\n",
       "  <tbody>\n",
       "    <tr>\n",
       "      <th>0</th>\n",
       "      <td>s1</td>\n",
       "      <td>Movie</td>\n",
       "      <td>Dick Johnson Is Dead</td>\n",
       "      <td>Kirsten Johnson</td>\n",
       "      <td>NaN</td>\n",
       "      <td>United States</td>\n",
       "      <td>September 25, 2021</td>\n",
       "      <td>2020</td>\n",
       "      <td>PG-13</td>\n",
       "      <td>90 min</td>\n",
       "      <td>Documentaries</td>\n",
       "      <td>As her father nears the end of his life, filmm...</td>\n",
       "    </tr>\n",
       "    <tr>\n",
       "      <th>1</th>\n",
       "      <td>s2</td>\n",
       "      <td>TV Show</td>\n",
       "      <td>Blood &amp; Water</td>\n",
       "      <td>NaN</td>\n",
       "      <td>Ama Qamata, Khosi Ngema, Gail Mabalane, Thaban...</td>\n",
       "      <td>South Africa</td>\n",
       "      <td>September 24, 2021</td>\n",
       "      <td>2021</td>\n",
       "      <td>TV-MA</td>\n",
       "      <td>2 Seasons</td>\n",
       "      <td>International TV Shows, TV Dramas, TV Mysteries</td>\n",
       "      <td>After crossing paths at a party, a Cape Town t...</td>\n",
       "    </tr>\n",
       "    <tr>\n",
       "      <th>2</th>\n",
       "      <td>s3</td>\n",
       "      <td>TV Show</td>\n",
       "      <td>Ganglands</td>\n",
       "      <td>Julien Leclercq</td>\n",
       "      <td>Sami Bouajila, Tracy Gotoas, Samuel Jouy, Nabi...</td>\n",
       "      <td>NaN</td>\n",
       "      <td>September 24, 2021</td>\n",
       "      <td>2021</td>\n",
       "      <td>TV-MA</td>\n",
       "      <td>1 Season</td>\n",
       "      <td>Crime TV Shows, International TV Shows, TV Act...</td>\n",
       "      <td>To protect his family from a powerful drug lor...</td>\n",
       "    </tr>\n",
       "    <tr>\n",
       "      <th>3</th>\n",
       "      <td>s4</td>\n",
       "      <td>TV Show</td>\n",
       "      <td>Jailbirds New Orleans</td>\n",
       "      <td>NaN</td>\n",
       "      <td>NaN</td>\n",
       "      <td>NaN</td>\n",
       "      <td>September 24, 2021</td>\n",
       "      <td>2021</td>\n",
       "      <td>TV-MA</td>\n",
       "      <td>1 Season</td>\n",
       "      <td>Docuseries, Reality TV</td>\n",
       "      <td>Feuds, flirtations and toilet talk go down amo...</td>\n",
       "    </tr>\n",
       "    <tr>\n",
       "      <th>4</th>\n",
       "      <td>s5</td>\n",
       "      <td>TV Show</td>\n",
       "      <td>Kota Factory</td>\n",
       "      <td>NaN</td>\n",
       "      <td>Mayur More, Jitendra Kumar, Ranjan Raj, Alam K...</td>\n",
       "      <td>India</td>\n",
       "      <td>September 24, 2021</td>\n",
       "      <td>2021</td>\n",
       "      <td>TV-MA</td>\n",
       "      <td>2 Seasons</td>\n",
       "      <td>International TV Shows, Romantic TV Shows, TV ...</td>\n",
       "      <td>In a city of coaching centers known to train I...</td>\n",
       "    </tr>\n",
       "  </tbody>\n",
       "</table>\n",
       "</div>"
      ],
      "text/plain": [
       "  show_id     type                  title         director  \\\n",
       "0      s1    Movie   Dick Johnson Is Dead  Kirsten Johnson   \n",
       "1      s2  TV Show          Blood & Water              NaN   \n",
       "2      s3  TV Show              Ganglands  Julien Leclercq   \n",
       "3      s4  TV Show  Jailbirds New Orleans              NaN   \n",
       "4      s5  TV Show           Kota Factory              NaN   \n",
       "\n",
       "                                                cast        country  \\\n",
       "0                                                NaN  United States   \n",
       "1  Ama Qamata, Khosi Ngema, Gail Mabalane, Thaban...   South Africa   \n",
       "2  Sami Bouajila, Tracy Gotoas, Samuel Jouy, Nabi...            NaN   \n",
       "3                                                NaN            NaN   \n",
       "4  Mayur More, Jitendra Kumar, Ranjan Raj, Alam K...          India   \n",
       "\n",
       "           date_added  release_year rating   duration  \\\n",
       "0  September 25, 2021          2020  PG-13     90 min   \n",
       "1  September 24, 2021          2021  TV-MA  2 Seasons   \n",
       "2  September 24, 2021          2021  TV-MA   1 Season   \n",
       "3  September 24, 2021          2021  TV-MA   1 Season   \n",
       "4  September 24, 2021          2021  TV-MA  2 Seasons   \n",
       "\n",
       "                                           listed_in  \\\n",
       "0                                      Documentaries   \n",
       "1    International TV Shows, TV Dramas, TV Mysteries   \n",
       "2  Crime TV Shows, International TV Shows, TV Act...   \n",
       "3                             Docuseries, Reality TV   \n",
       "4  International TV Shows, Romantic TV Shows, TV ...   \n",
       "\n",
       "                                         description  \n",
       "0  As her father nears the end of his life, filmm...  \n",
       "1  After crossing paths at a party, a Cape Town t...  \n",
       "2  To protect his family from a powerful drug lor...  \n",
       "3  Feuds, flirtations and toilet talk go down amo...  \n",
       "4  In a city of coaching centers known to train I...  "
      ]
     },
     "execution_count": 4,
     "metadata": {},
     "output_type": "execute_result"
    }
   ],
   "source": [
    "import pandas as pd\n",
    "\n",
    "# Lecture du fichier CSV\n",
    "df = pd.read_csv(\"netflix_titles.csv\")\n",
    "\n",
    "# Confirmation\n",
    "print(\"✅ Fichier chargé avec succès !\")\n",
    "print(\"Dimensions du dataset :\", df.shape)\n",
    "\n",
    "# Aperçu des 5 premières lignes\n",
    "df.head()\n"
   ]
  },
  {
   "cell_type": "code",
   "execution_count": null,
   "id": "788cf96f-79a7-4c2c-a9bd-e0fb86c9390c",
   "metadata": {},
   "outputs": [],
   "source": [
    "## 🔍 Étape 2 — Exploration initiale du dataset\n",
    "\n",
    "Nous allons maintenant examiner :\n",
    "- la **taille du dataset** (nombre de lignes et colonnes),\n",
    "- la **liste des colonnes disponibles**,\n",
    "- et la **nature générale des informations** contenues."
   ]
  },
  {
   "cell_type": "code",
   "execution_count": 5,
   "id": "0bdea16e-2442-4739-8757-1cb5472b45e5",
   "metadata": {},
   "outputs": [
    {
     "name": "stdout",
     "output_type": "stream",
     "text": [
      "Nombre de lignes et colonnes : (8807, 12)\n",
      "\n",
      "Colonnes disponibles :\n",
      "['show_id', 'type', 'title', 'director', 'cast', 'country', 'date_added', 'release_year', 'rating', 'duration', 'listed_in', 'description']\n"
     ]
    }
   ],
   "source": [
    "# Dimensions et noms de colonnes\n",
    "print(\"Nombre de lignes et colonnes :\", df.shape)\n",
    "print(\"\\nColonnes disponibles :\")\n",
    "print(df.columns.tolist())\n"
   ]
  },
  {
   "cell_type": "code",
   "execution_count": null,
   "id": "d7fda78d-208a-40cc-b3f7-4c318af00985",
   "metadata": {},
   "outputs": [],
   "source": [
    "### 🧩 Description des colonnes principales\n",
    "\n",
    "| Colonne | Signification |\n",
    "|----------|---------------|\n",
    "| `type` | Type de contenu (Film ou Série) |\n",
    "| `title` | Nom du contenu |\n",
    "| `director` | Réalisateur |\n",
    "| `cast` | Acteurs principaux |\n",
    "| `country` | Pays de production |\n",
    "| `date_added` | Date d’ajout sur Netflix |\n",
    "| `release_year` | Année de sortie |\n",
    "| `rating` | Classification d’âge (PG, TV-MA, etc.) |\n",
    "| `duration` | Durée (minutes ou saisons) |\n",
    "| `listed_in` | Genres |\n",
    "| `description` | Résumé du film ou de la série |\n"
   ]
  },
  {
   "cell_type": "code",
   "execution_count": null,
   "id": "9b7f169a-0a4a-4a38-b7cb-d882a9f42711",
   "metadata": {},
   "outputs": [],
   "source": [
    "## 🧹 Étape 3 — Vérification des données manquantes et du type des colonnes\n",
    "\n",
    "Avant de nettoyer nos données, vérifions :\n",
    "- s’il existe des **valeurs manquantes**,\n",
    "- et si les **types de colonnes** sont corrects."
   ]
  },
  {
   "cell_type": "code",
   "execution_count": 6,
   "id": "ea8822e6-16f5-4d4d-9ab0-7ac5c143422d",
   "metadata": {},
   "outputs": [
    {
     "data": {
      "text/plain": [
       "show_id            0\n",
       "type               0\n",
       "title              0\n",
       "director        2634\n",
       "cast             825\n",
       "country          831\n",
       "date_added        10\n",
       "release_year       0\n",
       "rating             4\n",
       "duration           3\n",
       "listed_in          0\n",
       "description        0\n",
       "dtype: int64"
      ]
     },
     "execution_count": 6,
     "metadata": {},
     "output_type": "execute_result"
    }
   ],
   "source": [
    "# Valeurs manquantes par colonne\n",
    "df.isnull().sum()\n"
   ]
  },
  {
   "cell_type": "code",
   "execution_count": 7,
   "id": "90c37ea6-5170-4232-912f-d410747d065c",
   "metadata": {},
   "outputs": [
    {
     "name": "stdout",
     "output_type": "stream",
     "text": [
      "<class 'pandas.core.frame.DataFrame'>\n",
      "RangeIndex: 8807 entries, 0 to 8806\n",
      "Data columns (total 12 columns):\n",
      " #   Column        Non-Null Count  Dtype \n",
      "---  ------        --------------  ----- \n",
      " 0   show_id       8807 non-null   object\n",
      " 1   type          8807 non-null   object\n",
      " 2   title         8807 non-null   object\n",
      " 3   director      6173 non-null   object\n",
      " 4   cast          7982 non-null   object\n",
      " 5   country       7976 non-null   object\n",
      " 6   date_added    8797 non-null   object\n",
      " 7   release_year  8807 non-null   int64 \n",
      " 8   rating        8803 non-null   object\n",
      " 9   duration      8804 non-null   object\n",
      " 10  listed_in     8807 non-null   object\n",
      " 11  description   8807 non-null   object\n",
      "dtypes: int64(1), object(11)\n",
      "memory usage: 825.8+ KB\n"
     ]
    }
   ],
   "source": [
    "# Informations sur les types de variables\n",
    "df.info()\n"
   ]
  },
  {
   "cell_type": "code",
   "execution_count": null,
   "id": "34403ffb-3d14-46cf-98b3-6ac289ab37a8",
   "metadata": {},
   "outputs": [],
   "source": [
    "### 🧠 Analyse rapide\n",
    "\n",
    "- Certaines colonnes contiennent beaucoup de valeurs manquantes (`director`, `cast`, `country`).  \n",
    "- D'autres sont complètes (`title`, `type`, `release_year`).  \n",
    "- Nous allons devoir **nettoyer** ces colonnes à l'étape suivante pour garantir la qualité de notre analyse.\n",
    "\n",
    "---\n",
    "\n",
    "## 🚀 Étape suivante\n",
    "Prochaine étape : **Préparation et nettoyage des données**  \n",
    "Nous allons :\n",
    "- supprimer les doublons,  \n",
    "- uniformiser les noms de colonnes,  \n",
    "- remplir les valeurs manquantes avec des valeurs neutres comme “Inconnu”,  \n",
    "- et créer de nouvelles colonnes utiles (année d’ajout, genre principal, etc.)."
   ]
  },
  {
   "cell_type": "code",
   "execution_count": null,
   "id": "1713a656-0854-448e-8124-56f2d4456ce3",
   "metadata": {},
   "outputs": [],
   "source": []
  }
 ],
 "metadata": {
  "kernelspec": {
   "display_name": "Python [conda env:base] *",
   "language": "python",
   "name": "conda-base-py"
  },
  "language_info": {
   "codemirror_mode": {
    "name": "ipython",
    "version": 3
   },
   "file_extension": ".py",
   "mimetype": "text/x-python",
   "name": "python",
   "nbconvert_exporter": "python",
   "pygments_lexer": "ipython3",
   "version": "3.13.5"
  }
 
 "nbformat": 4,
 "nbformat_minor": 5
}
